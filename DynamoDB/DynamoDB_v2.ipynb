{
 "cells": [
  {
   "cell_type": "code",
   "execution_count": 11,
   "metadata": {},
   "outputs": [],
   "source": [
    "#連接DynamoDB\n",
    "import boto3\n",
    "dynamodb = boto3.resource('dynamodb', endpoint_url='http://*:8000', aws_access_key_id = '*'\n",
    ", aws_secret_access_key = '*'\n",
    ", region_name = 'cc104' )"
   ]
  },
  {
   "cell_type": "code",
   "execution_count": 14,
   "metadata": {
    "scrolled": true
   },
   "outputs": [
    {
     "name": "stdout",
     "output_type": "stream",
     "text": [
      "0\n"
     ]
    }
   ],
   "source": [
    "#引用套件\n",
    "import boto3\n",
    "#連接DynamoDB\n",
    "# 建立表格.\n",
    "create_table = dynamodb.create_table(\n",
    "    \n",
    "    #資料表名稱\n",
    "    TableName='vcloud_picture_v5',  \n",
    "    \n",
    "    #主索引值\n",
    "    KeySchema=[\n",
    "        {\n",
    "            'AttributeName': 'id',\n",
    "            'KeyType': 'HASH'\n",
    "        },\n",
    "        #{\n",
    "        #    'AttributeName': 'last_name',\n",
    "        #    'KeyType': 'RANGE'\n",
    "        #}\n",
    "    ],\n",
    "    \n",
    "    #主索引值屬性\n",
    "    \n",
    "    AttributeDefinitions=[\n",
    "        {\n",
    "            'AttributeName': 'id',\n",
    "            'AttributeType': 'S'\n",
    "        },\n",
    "    #    {\n",
    "    #        'AttributeName': 'last_name',\n",
    "    #        'AttributeType': 'S'\n",
    "    #    },\n",
    "\n",
    "    ],\n",
    "    \n",
    "    # 讀寫能力單元 (Capacity Units) 設定\n",
    "    ProvisionedThroughput={\n",
    "        'ReadCapacityUnits': 5,\n",
    "        'WriteCapacityUnits': 5\n",
    "    }\n",
    ")\n",
    "\n",
    "#等待binghongtable 創建好 \n",
    "create_table.meta.client.get_waiter('table_exists').wait(TableName='vcloud_picture_v5')\n",
    "\n",
    "# 計算table的物件數\n",
    "print(create_table.item_count)"
   ]
  },
  {
   "cell_type": "code",
   "execution_count": 17,
   "metadata": {},
   "outputs": [
    {
     "name": "stdout",
     "output_type": "stream",
     "text": [
      "afterput: 0\n"
     ]
    }
   ],
   "source": [
    "\n",
    "dynamodb.meta.client.put_item(\n",
    "     TableName='vcloud_picture_v5',\n",
    "     Item={\n",
    "        'id': \"2\",\n",
    "        'filename': 'apple',\n",
    "         'filename2': 'apple',\n",
    "         'filename3': 'apple',\n",
    "         'filename4': 'apple'\n",
    "         }\n",
    "            )\n",
    "\n",
    "print('afterput:', table.item_count)"
   ]
  },
  {
   "cell_type": "code",
   "execution_count": 24,
   "metadata": {},
   "outputs": [
    {
     "name": "stdout",
     "output_type": "stream",
     "text": [
      "{'ResponseMetadata': {'RequestId': '7ca6b3da-a106-4ff7-ab7d-d3bd2994bca9', 'HTTPStatusCode': 200, 'HTTPHeaders': {'content-type': 'application/x-amz-json-1.0', 'x-amz-crc32': '2745614147', 'x-amzn-requestid': '7ca6b3da-a106-4ff7-ab7d-d3bd2994bca9', 'content-length': '2', 'server': 'Jetty(8.1.12.v20130726)'}, 'RetryAttempts': 0}}\n"
     ]
    }
   ],
   "source": [
    "\n",
    "reeponse = table.get_item(\n",
    "        Key={\n",
    "            'id': \"5\",  \n",
    "        }\n",
    ")\n",
    "item = reeponse\n",
    "print(item)"
   ]
  },
  {
   "cell_type": "code",
   "execution_count": 27,
   "metadata": {},
   "outputs": [
    {
     "name": "stdout",
     "output_type": "stream",
     "text": [
      "beforeput: 0\n",
      "afterput: 60\n"
     ]
    }
   ],
   "source": [
    "\n",
    "import pytz\n",
    "tz =pytz.timezone(\"Asia/Taipei\")\n",
    "import datetime\n",
    "print('beforeput:', table.item_count) \n",
    "table = dynamodb.Table('vcloud_picture_v5')\n",
    "for i in range(1,61):\n",
    "    ll=dynamodb.meta.client.put_item(\n",
    "     TableName='vcloud_picture_v5',\n",
    "     Item={\n",
    "        'id': str(i),\n",
    "         \"Info\":{\n",
    "        'filename': 'apple',\n",
    "         'fileurl': 'http://123.123.456',\n",
    "         'datetime': str(datetime.datetime.now(tz))\n",
    "         }\n",
    "     }\n",
    "            )\n",
    "print('afterput:', table.item_count)    "
   ]
  },
  {
   "cell_type": "code",
   "execution_count": null,
   "metadata": {},
   "outputs": [],
   "source": [
    "for i in range(1,61):\n",
    "    reeponse = table.get_item(\n",
    "        Key={\n",
    "            'id': str(i)\n",
    "        }\n",
    "    )\n",
    "    item = reeponse['Item']\n",
    "    print(item)"
   ]
  },
  {
   "cell_type": "code",
   "execution_count": 30,
   "metadata": {},
   "outputs": [],
   "source": [
    "\n",
    "for i in range(1,61):\n",
    "    try:\n",
    "        table.delete_item(Key={\n",
    "            'id': str(i)\n",
    "        })\n",
    "    except: \n",
    "        print(0)"
   ]
  },
  {
   "cell_type": "code",
   "execution_count": null,
   "metadata": {},
   "outputs": [],
   "source": []
  }
 ],
 "metadata": {
  "kernelspec": {
   "display_name": "Python 3",
   "language": "python",
   "name": "python3"
  },
  "language_info": {
   "codemirror_mode": {
    "name": "ipython",
    "version": 3
   },
   "file_extension": ".py",
   "mimetype": "text/x-python",
   "name": "python",
   "nbconvert_exporter": "python",
   "pygments_lexer": "ipython3",
   "version": "3.7.1"
  }
 },
 "nbformat": 4,
 "nbformat_minor": 2
}
