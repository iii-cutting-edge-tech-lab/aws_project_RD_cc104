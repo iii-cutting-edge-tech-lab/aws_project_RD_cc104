{
 "cells": [
  {
   "cell_type": "code",
   "execution_count": 1,
   "metadata": {},
   "outputs": [],
   "source": [
    "import boto3\n",
    "import json\n",
    "import pprint\n",
    "import datetime"
   ]
  },
  {
   "cell_type": "code",
   "execution_count": null,
   "metadata": {},
   "outputs": [],
   "source": [
    "# 變數命名\n",
    "sqs_endpoint_url = 'http://sqs.vcloudlab.pro:9324'\n",
    "region_name = \"ap-northeast-1\"\n",
    "QueueName = \"test\"\n",
    "# ID變數\n",
    "num = 0\n",
    "# function 參數\n",
    "filename = filename"
   ]
  },
  {
   "cell_type": "code",
   "execution_count": 2,
   "metadata": {},
   "outputs": [],
   "source": [
    "# 連線資訊\n",
    "# sqs\n",
    "sqs = boto3.resource('sqs', endpoint_url = sqs_endpoint_url,\n",
    "                      region_name = region_name\n",
    "                    )\n",
    "\n",
    "client = boto3.client('sqs', endpoint_url = sqs_endpoint_url,\n",
    "                      region_name = region_name\n",
    "                     )"
   ]
  },
  {
   "cell_type": "code",
   "execution_count": 1,
   "metadata": {},
   "outputs": [
    {
     "ename": "NameError",
     "evalue": "name 'sqs' is not defined",
     "output_type": "error",
     "traceback": [
      "\u001b[0;31m---------------------------------------------------------------------------\u001b[0m",
      "\u001b[0;31mNameError\u001b[0m                                 Traceback (most recent call last)",
      "\u001b[0;32m<ipython-input-1-ab8ca8226e59>\u001b[0m in \u001b[0;36m<module>\u001b[0;34m\u001b[0m\n\u001b[1;32m      1\u001b[0m \u001b[0;31m# # 創建quere\u001b[0m\u001b[0;34m\u001b[0m\u001b[0;34m\u001b[0m\u001b[0;34m\u001b[0m\u001b[0m\n\u001b[1;32m      2\u001b[0m \u001b[0;31m# queue = sqs.create_queue(QueueName=\"aaas.fifo\")\u001b[0m\u001b[0;34m\u001b[0m\u001b[0;34m\u001b[0m\u001b[0;34m\u001b[0m\u001b[0m\n\u001b[0;32m----> 3\u001b[0;31m \u001b[0mqueue\u001b[0m \u001b[0;34m=\u001b[0m \u001b[0msqs\u001b[0m\u001b[0;34m.\u001b[0m\u001b[0mcreate_queue\u001b[0m\u001b[0;34m(\u001b[0m\u001b[0mQueueName\u001b[0m\u001b[0;34m=\u001b[0m\u001b[0;34m'test30'\u001b[0m\u001b[0;34m,\u001b[0m \u001b[0mAttributes\u001b[0m\u001b[0;34m=\u001b[0m\u001b[0;34m{\u001b[0m\u001b[0;34m'DelaySeconds'\u001b[0m\u001b[0;34m:\u001b[0m \u001b[0;34m'1'\u001b[0m\u001b[0;34m,\u001b[0m \u001b[0;34m'ReceiveMessageWaitTimeSeconds'\u001b[0m\u001b[0;34m:\u001b[0m \u001b[0;34m'0'\u001b[0m\u001b[0;34m,\u001b[0m\u001b[0;34m'FifoQueue'\u001b[0m\u001b[0;34m:\u001b[0m\u001b[0;34m'ture'\u001b[0m \u001b[0;34m}\u001b[0m \u001b[0;34m)\u001b[0m\u001b[0;34m\u001b[0m\u001b[0;34m\u001b[0m\u001b[0m\n\u001b[0m\u001b[1;32m      4\u001b[0m \u001b[0mqueue\u001b[0m\u001b[0;34m.\u001b[0m\u001b[0murl\u001b[0m\u001b[0;34m\u001b[0m\u001b[0;34m\u001b[0m\u001b[0m\n\u001b[1;32m      5\u001b[0m \u001b[0;31m# # remode queue\u001b[0m\u001b[0;34m\u001b[0m\u001b[0;34m\u001b[0m\u001b[0;34m\u001b[0m\u001b[0m\n",
      "\u001b[0;31mNameError\u001b[0m: name 'sqs' is not defined"
     ]
    }
   ],
   "source": [
    "# # 創建quere\n",
    "queue = sqs.create_queue(QueueName= QueueName, Attributes={'DelaySeconds': '1', 'ReceiveMessageWaitTimeSeconds': '1','FifoQueue':'ture' } )\n",
    "# # remode queue\n",
    "# response = client.delete_queue(QueueUrl=\"http://sqs.vcloudlab.pro:9324/queue/test\")"
   ]
  },
  {
   "cell_type": "code",
   "execution_count": 4,
   "metadata": {
    "scrolled": true
   },
   "outputs": [
    {
     "name": "stdout",
     "output_type": "stream",
     "text": [
      "{'QueueUrls': ['http://sqs.vcloudlab.pro:9324/queue/test2',\n",
      "               'http://sqs.vcloudlab.pro:9324/queue/test10',\n",
      "               'http://sqs.vcloudlab.pro:9324/queue/test30',\n",
      "               'http://sqs.vcloudlab.pro:9324/queue/test20',\n",
      "               'http://sqs.vcloudlab.pro:9324/queue/test3',\n",
      "               'http://sqs.vcloudlab.pro:9324/queue/test'],\n",
      " 'ResponseMetadata': {'HTTPHeaders': {'content-length': '720',\n",
      "                                      'content-type': 'text/plain; '\n",
      "                                                      'charset=UTF-8',\n",
      "                                      'date': 'Fri, 25 Jan 2019 10:57:16 GMT',\n",
      "                                      'server': 'akka-http/10.0.2'},\n",
      "                      'HTTPStatusCode': 200,\n",
      "                      'RequestId': '00000000-0000-0000-0000-000000000000',\n",
      "                      'RetryAttempts': 0}}\n"
     ]
    }
   ],
   "source": [
    "# # 檢查queue參數\n",
    "# queue.attributes\n",
    "# # 檢視所有queue\n",
    "# pprint.pprint (client.list_queues(QueueNamePrefix='test'))"
   ]
  },
  {
   "cell_type": "code",
   "execution_count": 6,
   "metadata": {},
   "outputs": [],
   "source": [
    "# help(sqs.create_queue)"
   ]
  },
  {
   "cell_type": "code",
   "execution_count": 121,
   "metadata": {},
   "outputs": [
    {
     "name": "stdout",
     "output_type": "stream",
     "text": [
      "http://sqs.vcloudlab.pro:9324/queue/test2\n"
     ]
    }
   ],
   "source": [
    "# #查看quere\n",
    "# print(queue)\n",
    "# print(queue.url)\n",
    "# print(queue.attributes.get('DelaySeconds'))\n",
    "\n"
   ]
  },
  {
   "cell_type": "code",
   "execution_count": null,
   "metadata": {},
   "outputs": [],
   "source": [
    "# 以下程式碼 click發收時執行"
   ]
  },
  {
   "cell_type": "code",
   "execution_count": 6,
   "metadata": {},
   "outputs": [
    {
     "name": "stdout",
     "output_type": "stream",
     "text": [
      "{\"id\": 1, \"filename\": \"Hello world\", \"time\": \"2019-01-25 10:57:20\"}\n"
     ]
    }
   ],
   "source": [
    "# web 資料\n",
    "ID = num+1\n",
    "filename2 = filename\n",
    "data_ori={\n",
    "    'id' : ID,\n",
    "    'filename' : filename2,\n",
    "}\n",
    "\n",
    "data = json.dumps(data_ori)\n",
    "# print (data)"
   ]
  },
  {
   "cell_type": "code",
   "execution_count": 7,
   "metadata": {},
   "outputs": [],
   "source": [
    "# 上傳到SQS\n",
    "sqs_message = client.send_message(\n",
    "    QueueUrl = queue.url,\n",
    "    MessageBody = data,\n",
    "    DelaySeconds = 1,\n",
    ")"
   ]
  },
  {
   "cell_type": "code",
   "execution_count": 188,
   "metadata": {},
   "outputs": [
    {
     "name": "stdout",
     "output_type": "stream",
     "text": [
      "Queue is now empty\n"
     ]
    }
   ],
   "source": [
    "# 存入變數資料\n",
    "while True:\n",
    "    messages = client.receive_message(QueueUrl = queue.url,MaxNumberOfMessages=1)\n",
    "    if 'Messages' in messages: # when the queue is exhausted, the response dict contains no 'Messages' key\n",
    "        for message in messages['Messages']: # 'Messages' is a list\n",
    "            # process the messages\n",
    "            sqs_data = message['Body']\n",
    "            print(sqs_data)\n",
    "            # next, we delete the message from the queue so no one else will process it again\n",
    "            client.delete_message(\n",
    "              QueueUrl=queue.url,\n",
    "              ReceiptHandle=message['ReceiptHandle']\n",
    "            )\n",
    "    else:\n",
    "        print('No data could use')\n",
    "        break"
   ]
  },
  {
   "cell_type": "code",
   "execution_count": 14,
   "metadata": {},
   "outputs": [],
   "source": [
    "# sqs轉成file\n",
    "# open file\n",
    "file=open('local_file'+'.txt', \"w\")   # w = write 寫入(複寫)，此時檔案以空白\n",
    "file.write(json.dumps(sqs_data))\n",
    "file.close()"
   ]
  }
 ],
 "metadata": {
  "kernelspec": {
   "display_name": "Python 3",
   "language": "python",
   "name": "python3"
  },
  "language_info": {
   "codemirror_mode": {
    "name": "ipython",
    "version": 3
   },
   "file_extension": ".py",
   "mimetype": "text/x-python",
   "name": "python",
   "nbconvert_exporter": "python",
   "pygments_lexer": "ipython3",
   "version": "3.7.1"
  }
 },
 "nbformat": 4,
 "nbformat_minor": 2
}
