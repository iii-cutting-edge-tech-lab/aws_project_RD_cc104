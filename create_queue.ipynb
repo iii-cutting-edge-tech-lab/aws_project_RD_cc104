{
 "cells": [
  {
   "cell_type": "code",
   "execution_count": null,
   "metadata": {},
   "outputs": [],
   "source": [
    "import boto3\n",
    "import json\n",
    "import pprint\n",
    "import datetime"
   ]
  },
  {
   "cell_type": "code",
   "execution_count": null,
   "metadata": {},
   "outputs": [],
   "source": [
    "# 變數命名 (要修改)\n",
    "sqs_endpoint_url = 'http://sqs.vcloudlab.pro:9324'\n",
    "region_name = \"ap-northeast-1\"\n",
    "# (要修改)\n",
    "QueueName = \"test\"\n",
    "# ID變數\n",
    "num = 0\n",
    "# function 參數\n",
    "filename = filename"
   ]
  },
  {
   "cell_type": "code",
   "execution_count": null,
   "metadata": {},
   "outputs": [],
   "source": [
    "# 連線資訊\n",
    "# sqs\n",
    "sqs = boto3.resource('sqs', endpoint_url = sqs_endpoint_url,\n",
    "                      region_name = region_name\n",
    "                    )\n",
    "\n",
    "client = boto3.client('sqs', endpoint_url = sqs_endpoint_url,\n",
    "                      region_name = region_name\n",
    "                     )"
   ]
  },
  {
   "cell_type": "code",
   "execution_count": null,
   "metadata": {},
   "outputs": [],
   "source": [
    "# # 創建quere\n",
    "queue = sqs.create_queue(QueueName= QueueName, Attributes={'DelaySeconds': '1', 'ReceiveMessageWaitTimeSeconds': '1','FifoQueue':'ture' } )\n"
   ]
  },
  {
   "cell_type": "code",
   "execution_count": null,
   "metadata": {},
   "outputs": [],
   "source": []
  },
  {
   "cell_type": "code",
   "execution_count": null,
   "metadata": {},
   "outputs": [],
   "source": []
  }
 ],
 "metadata": {
  "kernelspec": {
   "display_name": "Python 3",
   "language": "python",
   "name": "python3"
  },
  "language_info": {
   "codemirror_mode": {
    "name": "ipython",
    "version": 3
   },
   "file_extension": ".py",
   "mimetype": "text/x-python",
   "name": "python",
   "nbconvert_exporter": "python",
   "pygments_lexer": "ipython3",
   "version": "3.7.1"
  }
 },
 "nbformat": 4,
 "nbformat_minor": 2
}
