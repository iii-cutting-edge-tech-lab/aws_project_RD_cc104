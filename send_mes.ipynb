{
 "cells": [
  {
   "cell_type": "code",
   "execution_count": null,
   "metadata": {},
   "outputs": [],
   "source": [
    "import boto3\n",
    "import json\n",
    "import pprint\n",
    "import datetime\n",
    "import create_queue"
   ]
  },
  {
   "cell_type": "code",
   "execution_count": null,
   "metadata": {},
   "outputs": [],
   "source": [
    "# 定義參數\n",
    "queue_url = 'http://sqs.vcloudlab.pro:9324/queue/{}'.format(create_queue.QueueName)"
   ]
  },
  {
   "cell_type": "code",
   "execution_count": null,
   "metadata": {},
   "outputs": [],
   "source": [
    "# 以下程式碼 click發收時執行\n",
    "# web 資料\n",
    "ID = num+1\n",
    "filename2 = filename\n",
    "data_ori={\n",
    "    'id' : ID,\n",
    "    'filename' : filename2,\n",
    "}\n",
    "\n",
    "data = json.dumps(data_ori)\n",
    "# print (data)"
   ]
  },
  {
   "cell_type": "code",
   "execution_count": null,
   "metadata": {},
   "outputs": [],
   "source": [
    "# 上傳到SQS\n",
    "sqs_message = client.send_message(\n",
    "    QueueUrl = queue.url,\n",
    "    MessageBody = data,\n",
    "    DelaySeconds = 1,\n",
    ")"
   ]
  },
  {
   "cell_type": "code",
   "execution_count": null,
   "metadata": {},
   "outputs": [],
   "source": [
    "# 存入變數資料\n",
    "while True:\n",
    "    messages = client.receive_message(QueueUrl = queue.url,MaxNumberOfMessages=1)\n",
    "    if 'Messages' in messages: # when the queue is exhausted, the response dict contains no 'Messages' key\n",
    "        for message in messages['Messages']: # 'Messages' is a list\n",
    "            # process the messages\n",
    "            sqs_data = message['Body']\n",
    "            print(sqs_data)\n",
    "            # next, we delete the message from the queue so no one else will process it again\n",
    "            client.delete_message(\n",
    "              QueueUrl=queue_url,\n",
    "              ReceiptHandle=message['ReceiptHandle']\n",
    "            )\n",
    "    else:\n",
    "        print('No data could use')\n",
    "        break"
   ]
  },
  {
   "cell_type": "code",
   "execution_count": null,
   "metadata": {},
   "outputs": [],
   "source": [
    "# sqs轉成file\n",
    "# open file\n",
    "file=open('local_file'+'.txt', \"w\")   # w = write 寫入(複寫)，此時檔案以空白\n",
    "file.write(json.dumps(sqs_data))\n",
    "file.close()"
   ]
  },
  {
   "cell_type": "code",
   "execution_count": null,
   "metadata": {},
   "outputs": [],
   "source": []
  },
  {
   "cell_type": "code",
   "execution_count": null,
   "metadata": {},
   "outputs": [],
   "source": []
  }
 ],
 "metadata": {
  "kernelspec": {
   "display_name": "Python 3",
   "language": "python",
   "name": "python3"
  },
  "language_info": {
   "codemirror_mode": {
    "name": "ipython",
    "version": 3
   },
   "file_extension": ".py",
   "mimetype": "text/x-python",
   "name": "python",
   "nbconvert_exporter": "python",
   "pygments_lexer": "ipython3",
   "version": "3.7.1"
  }
 },
 "nbformat": 4,
 "nbformat_minor": 2
}
